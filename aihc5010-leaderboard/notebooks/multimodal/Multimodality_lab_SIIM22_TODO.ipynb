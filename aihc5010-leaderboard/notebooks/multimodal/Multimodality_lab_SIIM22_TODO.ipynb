{
 "cells": [
  {
   "cell_type": "markdown",
   "id": "Fl_qISCY5xVb",
   "metadata": {
    "id": "Fl_qISCY5xVb"
   },
   "source": [
    "# Multimodal deep learning using PyTorch\n",
    "## SIIM Github Repo\n",
    "### Task\n",
    "\n",
    "Train a multi modal deep learning model to classify MGMT promoter methylation status using different MRI sequences and age.\n",
    "\n",
    "Requirements\n",
    "Basic understanding of machine learning and deep learning\n",
    "Programming in Python\n",
    "Programming in PyTorch\n",
    "Learning objectives\n",
    "At the end of this activity, you will be able to:\n",
    "\n",
    "- Define multimodality and state its importance\n",
    "- Categorize different types of multimodality\n",
    "- Implement Imaging-Imaging multimodality deep leaning in PyTorch\n",
    "- Implement Imaging-Non imaging multimodality deep leaning in PyTorch\n",
    "- Implement multimodal deep leaning with result ensemble in PyTorch\n",
    "\n",
    "Acknowledgements\n",
    "This Jupyter Notebook was based on code by Shahriar Faghani, MD (Faghani.shahriar@mayo.edu), Gian Marco Conte, MD, PhD (Gianmarco.conte@mayo.edu) and, Mana Moassefi, MD (Moassefi.mana@mayo.edu) developed at Artificial intelligence lab, Mayo Clinic, Rochester\n",
    "\n",
    "### **Graded items in this notebook are identified with the \"TODO [Graded]\" message.**"
   ]
  },
  {
   "cell_type": "markdown",
   "id": "dee5dacc",
   "metadata": {
    "id": "dee5dacc"
   },
   "source": [
    "# TODO: install gdown and restart runtime\n",
    "\n",
    "We will be using quite a large data set this week. We will get the donwload started before reading on. This will be similar to the CNN classification lab two weeks ago and we first need to install gdown.\n",
    "\n",
    "Run the cell below. Then depending on whether you are running this in a jupyter notebook or on Google Colab follow these instructions:\n",
    "\n",
    "**Jupyter** - click on the 'Kernel' tab at the top of the notebook and choose 'Restart & Clear Output'. Rerun all the cells from the start of the notebook to this point before moving on.\n",
    "\n",
    "**Colab** - click on the 'Runtime' tab at the top of the notebook and choose 'Restart Runtime'. Rerun all the cells from the start of the notebook to this point before moving on.These steps ensure that the installation takes effect. We will use gdown to download the data set shortly."
   ]
  },
  {
   "cell_type": "code",
   "execution_count": null,
   "id": "5e73f68d",
   "metadata": {
    "id": "5e73f68d"
   },
   "outputs": [],
   "source": [
    " !pip install -U --no-cache-dir gdown --pre #TODO: run this cell and follow the instructions in the cell above."
   ]
  },
  {
   "cell_type": "code",
   "execution_count": null,
   "id": "8d3b2d77",
   "metadata": {
    "colab": {
     "base_uri": "https://localhost:8080/",
     "height": 174
    },
    "id": "8d3b2d77",
    "outputId": "553b43da-5139-427e-bb6a-32185a11fae9"
   },
   "outputs": [
    {
     "name": "stderr",
     "output_type": "stream",
     "text": [
      "Downloading...\n",
      "From: https://drive.google.com/uc?id=1HP6B4XjGEUJnJC2hVxruBGgYqmABxyWV\n",
      "To: /content/train_labels.csv\n",
      "100%|██████████| 4.70k/4.70k [00:00<00:00, 7.46MB/s]\n",
      "Downloading...\n",
      "From: https://drive.google.com/uc?id=118hQ1pmtx_NftIFs57ScnEPtpHeSxnr3\n",
      "To: /content/data.zip\n",
      "100%|██████████| 2.72G/2.72G [00:44<00:00, 60.5MB/s]\n"
     ]
    },
    {
     "data": {
      "application/vnd.google.colaboratory.intrinsic+json": {
       "type": "string"
      },
      "text/plain": [
       "'data.zip'"
      ]
     },
     "execution_count": 2,
     "metadata": {},
     "output_type": "execute_result"
    }
   ],
   "source": [
    "import os\n",
    "import gdown\n",
    "\n",
    "gdown.download('https://drive.google.com/uc?id=1HP6B4XjGEUJnJC2hVxruBGgYqmABxyWV', 'train_labels.csv', quiet=False)\n",
    "gdown.download('https://drive.google.com/uc?id=118hQ1pmtx_NftIFs57ScnEPtpHeSxnr3', 'data.zip', quiet=False)"
   ]
  },
  {
   "cell_type": "code",
   "execution_count": null,
   "id": "f090732e",
   "metadata": {
    "id": "f090732e",
    "scrolled": true
   },
   "outputs": [],
   "source": [
    "!unzip data.zip # if running on colab run this line of code.\n",
    "\n",
    "# !unzip data.zip -d ./data/ # if running on a local jupyter notebook uncomment and run this line instead."
   ]
  },
  {
   "cell_type": "markdown",
   "id": "ZkgVnPFohzbt",
   "metadata": {
    "id": "ZkgVnPFohzbt"
   },
   "source": [
    "#### Similar to human physicians, automated detection and classification systems that use both medical imaging data and clinical data from the EHR -- such as patient demographics, previous diagnoses, and laboratory data -- are likely to produce models with better performance. Recent medical imaging literature also shows a similar trend where both EHR and pixel data are exploited in a \"fusion paradigm\" for solving complex tasks that cannot easily be solved by one modality alone (Huang et al. 2020)."
   ]
  },
  {
   "cell_type": "markdown",
   "id": "4rmjTMpiitfW",
   "metadata": {
    "id": "4rmjTMpiitfW"
   },
   "source": [
    "### Imaging models:"
   ]
  },
  {
   "cell_type": "markdown",
   "id": "moQxFUkHixWb",
   "metadata": {
    "id": "moQxFUkHixWb"
   },
   "source": [
    "#### Contemporary medicine relies on the synthesis of a wide variety of information such as imaging data, laboratory data, unstructured narrative data, 1D signals like EKG, and in some cases, audio or observational data. The clinical context of images often plays a critical role in providing diagnosis decisions in medical image interpretation. For example, it has repeatedly been shown that a lack of access to clinical and laboratory data during image interpretation results in lower performance and decreased clinical utility for the referring provider. In a survey of radiologists, the majority (87%) stated that clinical information had a significant impact on interpretation (Boonn and Langlotz 2009). Radiology is not the only imaging-based medical specialty that relies on context for accurate interpretation of imaging data; pathology, ophthalmology, and dermatology also use clinical context for clinical image interpretation. With accurate and relevant information regarding current symptoms and past medical history, physicians are better able to interpret imaging findings in the appropriate clinical context, resulting in a more relevant differential diagnosis, a more useful report for physicians, and a more favorable outcome for the patient. \n",
    "#### Convolutional neural network (CNN) models typically use pixel values as inputs, without contextualizing other clinical information as doctors do in clinical practice, which may limit performance. As an example consider the “simple” task in radiology of identifying pneumonia on a chest x-ray (CXR), something that has been achieved by many investigators training deep learning models for automated detection and classification of pathologies. Such applications, however, may ultimately have a limited impact on clinical practice without clinical context such as chief complaint, history of present illness, past medical history, drug history, family history, physical examination findings, and laboratory values. In spite of having imaging findings that can set pneumonia apart from other diagnoses, CXR is nonspecific, and accurate diagnosis requires clinical and laboratory information. CXR findings that suggest pneumonia would be accurate in patients with fevers and elevated white blood cell counts, but in patients with no similar clinical features or laboratory values, similar images might indicate atelectasis, pulmonary edema, interstitial disease, or even lung cancer. \n",
    "\n",
    "#### First, we will discuss different fusion techniques in deep learning and machine learning, and then we will discuss some medical multimodality examples, and finally, we will develop a simple multimodal model.\n"
   ]
  },
  {
   "cell_type": "markdown",
   "id": "dd8R3-9ui87u",
   "metadata": {
    "id": "dd8R3-9ui87u"
   },
   "source": [
    "### Fusion Techniques"
   ]
  },
  {
   "cell_type": "markdown",
   "id": "u2As3ZN2jAQ4",
   "metadata": {
    "id": "u2As3ZN2jAQ4"
   },
   "source": [
    "#### Image fusion is a technique for combining the information from several imaging data sources acquired from the same or different modalities. A goal of image fusion, especially in medical imaging, is to enhance or complement each data source's features, so that machine learning algorithms can achieve better performance rather than using only one data channel. The expected output will have a richer feature representation than the individual components. The multimodal fusion technique has achieved remarkable success in a variety of applications like medical image segmentation, image classification, and image reconstruction.\n",
    "#### Data fusion requires more than one data source (e.g. could be from one exam like T1 and T2 of MRI or different exams like MRI and CT). The traditional image processing literature refers to these as ‘channels’ and we will also use that nomenclature. Data channels can be heterogeneous, complementary, concordant or discordant, synchronous or asynchronous, and redundant with different scales that must be normalized in order to be combined. Medical images such as MRI/CT/PET/Ultrasound also have differences that must be considered when using them in combination. Therefore, the choice of algorithm or architecture depends primarily on the goal of the application and data channel characteristics. To summarize, the advantages of data fusion (Bellot et al. 2002) are:\n",
    "#### 1) To provide different types of information to help increase certainty about the diagnosis.\n",
    "#### 2) To combine source features and extract the new or hidden information with increased certainty.\n",
    "#### 3) To enhance the abstraction and completeness of data by efficiently combining them.\n",
    "#### In recent computer vision publications, people investigate the multimodal fusion strategies in the context of the spatio-temporal convolutional neural network (Karpathy et al. 2014) and broadly categorized into four fusion patterns/classes: Early fusion, Late fusion, Joint fusion, and Slow fusion.    \t\n"
   ]
  },
  {
   "cell_type": "markdown",
   "id": "aWKbcfE2jJpo",
   "metadata": {
    "id": "aWKbcfE2jJpo"
   },
   "source": [
    "### Early Fusion:"
   ]
  },
  {
   "cell_type": "markdown",
   "id": "6zOul7QujN5j",
   "metadata": {
    "id": "6zOul7QujN5j"
   },
   "source": [
    "#### Early fusion merges the various data channels at the beginning of the machine learning model training. These individual modality features may be joined in different ways, such as by average pooling, weighted concatenation, or gated fusion techniques (Type I or II in Fig. 1). The unimodal local features are concatenated into a joint representation. Therefore, the unified model must ensure that the data/features are correctly aligned in order to enable joint processing. As a result, converting data sources into a single feature vector is a significant challenge in early data fusion approaches. In reality, the conditionally independent criteria between medical data sources are not always true as multiple modalities may have highly correlated features, possibly because of acquisition setting. Therefore, different data collection modalities are typically spatially aligned (known as image registration) with a standard pixel sampling rate (for images or perhaps time for other modalities) to make a common ground for fusion. If the data is aligned correctly, the cross-correlations between data items may be exploited, which provides an opportunity to increase the system performance (Gadzicki et al. 2020).\n"
   ]
  },
  {
   "cell_type": "markdown",
   "id": "CSEJLXi-jRuH",
   "metadata": {
    "id": "CSEJLXi-jRuH"
   },
   "source": [
    "<img src=\"https://i.ibb.co/WchcPN1/fig1.png\"><br>\n",
    "*Figure 1.* **Early Fusion**<br><br>\n"
   ]
  },
  {
   "cell_type": "markdown",
   "id": "voChWu2OoCdj",
   "metadata": {
    "id": "voChWu2OoCdj"
   },
   "source": [
    "### Late or Ensemble Fusion:\n",
    "#### In late fusion, the individual streams fully process each data channel separately and their outputs are merged at a decision-making or prediction stage through a summation, averaging operation, or majority voting. Similar to the ensemble technique, the late fusion process learns the optimal combination of each component that maximizes performance. The learning process handles the errors independently, decorrelates errors, and thus improves performance with respect to each modality. The major drawback lies in the limited potential for the exploitation of cross-correlations between the different unimodal data.\n",
    "<img src=\"https://i.ibb.co/T2JHW4X/fig2.png\"><br>\n",
    "*Figure 2.* **Late Fusion** <br><br>\n",
    "### Intermediate/Joint Fusion\n",
    "#### Joint fusion was introduced to fuse the imaging feature representations with the clinical features before feeding them into the model. Because of the differences between the imaging and clinical features in dimensionality and dynamic range, different models were introduced (Haylat 2020) to scale their clinical features before fusion and improve their performance (Fig. 3).\n",
    "<img src=\"https://i.ibb.co/kKxVYfz/fig3.png\"><br>\n",
    "*Figure 3.* **Joint Fusion, Type I (Up) and Type II (down)** <br><br>\n",
    "### Slow Fusion\n",
    "#### Slow fusion is widely used in 3D video both the spatial and temporal dimensions (Huang et al. 2020) begin as multiple networks that take consecutive video frames and slowly fuse their temporal features throughout the network such that the higher layers progressively get access to global information(Karpathy et al. 2014). As shown in Fig. 4, the whole architecture is segregated into four layers of actions that progressively share the training parameters. In the first layer, each model takes four temporal sequences (stride of four) that pass through a series of convolutions, producing four feature maps. The second layer processes a series of two temporal features out of four feature maps and passes it to layer three, consequently accessing information across all the input video frames. Finally, layer four performs a pooling operation for global feature extraction and eventually connects higher tasks (classification) with a dense connection. Therefore, the machine learning or CNN models benefit from learning the powerful features with subsequent fusion connections and can be robust to details of the connectivity across time.\n",
    "<img src=\"https://i.ibb.co/St6Ccz9/fig4.png\"><br>\n",
    "\n"
   ]
  },
  {
   "cell_type": "markdown",
   "id": "kizWyMnd1GGn",
   "metadata": {
    "id": "kizWyMnd1GGn"
   },
   "source": [
    "### Imaging Only Multimodal Learning:\n",
    "\n",
    "#### As we discussed before, multimodality can be derived from a variety of sources; this section discusses image-image learning.\n",
    "\n",
    "#### Multimodal imaging studies usually require co-registration. The process of co-registering images includes geometrically aligning two or more images so that their corresponding pixels (voxels) represent the same object. In general, image co-registration can be classified into two categories based on the reference: one approach registers the images into an existing atlas; the other approach registers the images into one selected image. It is essential that this process is undertaken before any subsequent quantitative image analysis. Various techniques are available for doing image registration, including DL-based registration and traditional registration, which are beyond the scope of this chapter (for further reading see (Haskins, Kruger, and Yan 2020)). \n",
    "#### Multimodal imaging has many real-world examples, one of which is the fusion of structural and functional (molecular) imaging such as PET-CT and PET-MR. Since molecular imaging has a limited spatial resolution, it cannot precisely show the location of tumors, and tracers often are not taken up by enough structures to make anatomic location clear. By acquiring CT or MR images within the same physical device, the precise anatomic location can be determined(Fig. 5).\n",
    "<img src=\"https://i.ibb.co/vZf4V1b/fig5.png\"><br>\n",
    "*Figure 5.* **(a) Coregistered PET-CT scan , (b) CT scan,(c) PET scan**<br><br>\n",
    "#### CT-MRI fusion for radiation therapy is another example. MRI has superb soft-tissue resolution and can show tumor which is difficult to appreciate on CT. On the other hand, MRI does not reflect radiation attenuation, which is critical to accurate dose delivery. As a result,fusion of MRI images with CT is commonly used in radiosurgery, interventional radiology, and radiotherapy. (Liu et al. 2019) (Fig. 6)\n",
    "<img src=\"https://i.ibb.co/qjyf2Z6/fig6.png\"><br>\n",
    "*Figure 6.* **(a) CT scan, (b) Coregistered CT-MRI scan,(c) MRI scan**<br><br>\n",
    "#### While we used different modalities in the above examples, there are also times when planes or modes of acquisition of the same modality can yield different types of information that can be utilized. For instance, using both the mediolateral oblique (MLO) and the craniocaudal (CC) mammogram views increases the accuracy of diagnostic imaging for detecting breast cancers, compared to only using one. (Fig. 7)\n"
   ]
  },
  {
   "cell_type": "markdown",
   "id": "jS5x_SCTo0jQ",
   "metadata": {
    "id": "jS5x_SCTo0jQ"
   },
   "source": [
    "#### In this notebook we are going to train a model to determine MGMT promoter methylation status within patients with GBM tumor.\n",
    "##### We are going to use T1,T2,T1 post contrast,FLAIR MRI sequences and also mask of tumor."
   ]
  },
  {
   "cell_type": "markdown",
   "id": "c5e00222-12f4-4db8-8293-823461a3b0f6",
   "metadata": {
    "id": "c5e00222-12f4-4db8-8293-823461a3b0f6"
   },
   "source": [
    "### Import Packages"
   ]
  },
  {
   "cell_type": "code",
   "execution_count": null,
   "id": "X1Sz4Q0MeDPm",
   "metadata": {
    "id": "X1Sz4Q0MeDPm"
   },
   "outputs": [],
   "source": [
    "!pip install monai -q"
   ]
  },
  {
   "cell_type": "code",
   "execution_count": null,
   "id": "c74533f5",
   "metadata": {
    "id": "c74533f5"
   },
   "outputs": [],
   "source": [
    "import os\n",
    "import math\n",
    "import torch\n",
    "import shutil\n",
    "import random\n",
    "import requests\n",
    "import monai as mn\n",
    "import numpy as np\n",
    "import pandas as pd\n",
    "import nibabel as nib\n",
    "import matplotlib.pyplot as plt\n",
    "\n",
    "from tqdm.auto import tqdm\n",
    "from sklearn.model_selection import train_test_split\n",
    "from torch.utils.data import Dataset, DataLoader, WeightedRandomSampler\n",
    "\n",
    "def sub_model(team, hyperparam):\n",
    "  url='https://aihc5010.pythonanywhere.com/submit-model/'\n",
    "  hyperparam['team']=team\n",
    "  hyperparam['ModelKey']='lab3'\n",
    "  x=requests.post(url,data=hyperparam)\n",
    "  if x.status_code==200:\n",
    "      print(f\"Model Submitted Successfully for team {team}\")\n",
    "  else:\n",
    "      print(x.status_code)\n",
    "      print(x.text)\n",
    "      print(\"Failed to Submit\")"
   ]
  },
  {
   "cell_type": "markdown",
   "id": "0613f8d5-7d5b-48d0-acd6-8ac9e59a0d9a",
   "metadata": {
    "id": "0613f8d5-7d5b-48d0-acd6-8ac9e59a0d9a"
   },
   "source": [
    "## TODO: Make sure you are using a GPU if there are any\n",
    "\n",
    "If you are the cell below should print :\n",
    "\n",
    "cuda:0\n",
    "\n",
    "Otherwise it will print:\n",
    "\n",
    "cpu\n",
    "\n",
    "and training will run much more slowly"
   ]
  },
  {
   "cell_type": "code",
   "execution_count": null,
   "id": "L8UAEHeLcQ53",
   "metadata": {
    "colab": {
     "base_uri": "https://localhost:8080/"
    },
    "id": "L8UAEHeLcQ53",
    "outputId": "6a2e4d7b-dd5a-4a22-c819-37609de63c16"
   },
   "outputs": [
    {
     "name": "stdout",
     "output_type": "stream",
     "text": [
      "cuda:0\n"
     ]
    }
   ],
   "source": [
    "device = torch.device(\"cuda:0\" if torch.cuda.is_available() else \"cpu\")\n",
    "print(device)"
   ]
  },
  {
   "cell_type": "markdown",
   "id": "b67fc951-d4fa-4a2b-a036-bc8ee974652a",
   "metadata": {
    "id": "b67fc951-d4fa-4a2b-a036-bc8ee974652a"
   },
   "source": [
    "### Make Training Proccess Deterministic"
   ]
  },
  {
   "cell_type": "code",
   "execution_count": null,
   "id": "cb668ba2",
   "metadata": {
    "id": "cb668ba2"
   },
   "outputs": [],
   "source": [
    "def seed_all(seed:int) -> None:\n",
    "    random.seed(seed)\n",
    "    os.environ['PYTHONHASHSEED'] = str(seed)\n",
    "    np.random.seed(seed)\n",
    "    torch.manual_seed(seed)\n",
    "    torch.cuda.manual_seed(seed)\n",
    "    torch.backends.cudnn.deterministic = True\n",
    "    torch.backends.cudnn.benchmark = False\n",
    "    mn.utils.misc.set_determinism(seed=seed)\n",
    "seed_all(123)"
   ]
  },
  {
   "cell_type": "code",
   "execution_count": null,
   "id": "Htc8_vp-phOK",
   "metadata": {
    "id": "Htc8_vp-phOK"
   },
   "outputs": [],
   "source": [
    "# Enter your Team Name below\n",
    "team = # TODO: choose a team name"
   ]
  },
  {
   "cell_type": "code",
   "execution_count": null,
   "id": "3aaRXzBLpker",
   "metadata": {
    "id": "3aaRXzBLpker"
   },
   "outputs": [],
   "source": [
    "print(\"Your Team Name is:\", team)"
   ]
  },
  {
   "cell_type": "markdown",
   "id": "uQp1oiiJmrIA",
   "metadata": {
    "id": "uQp1oiiJmrIA"
   },
   "source": [
    "# 1. Early Fusion\n",
    "\n",
    "## This section contains 3 graded TODO items."
   ]
  },
  {
   "cell_type": "markdown",
   "id": "bb3dd95e-cb80-491e-8ecd-198504abab34",
   "metadata": {
    "id": "bb3dd95e-cb80-491e-8ecd-198504abab34"
   },
   "source": [
    "### Load Labels(MGMT methylation status) for each patient"
   ]
  },
  {
   "cell_type": "code",
   "execution_count": null,
   "id": "PABp4bN9jpIB",
   "metadata": {
    "id": "PABp4bN9jpIB"
   },
   "outputs": [],
   "source": [
    "dir_list = os.listdir('./data')"
   ]
  },
  {
   "cell_type": "code",
   "execution_count": null,
   "id": "f855e6f4",
   "metadata": {
    "id": "f855e6f4"
   },
   "outputs": [],
   "source": [
    "df=pd.read_csv('./train_labels.csv')# csv path\n",
    "df.head(3)"
   ]
  },
  {
   "cell_type": "markdown",
   "id": "VDYjt_-Xu3SY",
   "metadata": {
    "id": "VDYjt_-Xu3SY"
   },
   "source": [
    "The original BraTS21 data set is too large for the purposes of this lab. We will therefore work with a subset. Here we extract the labels for this subset from the train_labels.csv we read in in the previous cell."
   ]
  },
  {
   "cell_type": "code",
   "execution_count": null,
   "id": "85ca7084",
   "metadata": {
    "id": "85ca7084",
    "scrolled": false
   },
   "outputs": [],
   "source": [
    "subset = []\n",
    "for d in dir_list:\n",
    "    subset.append(df.loc[df['BraTS21ID'] == int(d.lstrip('0'))].values[0])\n",
    "df = pd.DataFrame(subset, columns=['BraTS21ID', 'MGMT_value'])"
   ]
  },
  {
   "cell_type": "markdown",
   "id": "98b94e70-5617-4930-ae80-24aac4f8f7c3",
   "metadata": {
    "id": "98b94e70-5617-4930-ae80-24aac4f8f7c3"
   },
   "source": [
    "### Splitting dataset to train and validation sets at patients level."
   ]
  },
  {
   "cell_type": "code",
   "execution_count": null,
   "id": "1c9f0b69",
   "metadata": {
    "id": "1c9f0b69"
   },
   "outputs": [],
   "source": [
    "df_train,df_val=train_test_split(df, test_size=0.2, train_size=0.8, random_state=123, shuffle=True, stratify=df['MGMT_value'])"
   ]
  },
  {
   "cell_type": "code",
   "execution_count": null,
   "id": "364322f2",
   "metadata": {
    "id": "364322f2"
   },
   "outputs": [],
   "source": [
    "print('Number of positive train samples:',len(df_train[df_train['MGMT_value']==1]))\n",
    "print('Number of negative train samples:',len(df_train[df_train['MGMT_value']==0]))\n",
    "print('Number of positive validation samples:',len(df_val[df_val['MGMT_value']==1]))\n",
    "print('Number of negative validation samples:',len(df_val[df_val['MGMT_value']==0]))\n",
    "print('Ratio of positive to negative samples in train set:',len(df_train[df_train['MGMT_value']==1])/len(df_train[df_train['MGMT_value']==0]))\n",
    "print('Ratio of positive to negative samples in validation set:',len(df_val[df_val['MGMT_value']==1])/len(df_val[df_val['MGMT_value']==0]))"
   ]
  },
  {
   "cell_type": "code",
   "execution_count": null,
   "id": "d760240b",
   "metadata": {
    "id": "d760240b"
   },
   "outputs": [],
   "source": [
    "df['MGMT_value'].hist(grid=False,bins=3)\n",
    "len_neg=len(df[df['MGMT_value']==0])\n",
    "len_pos=len(df[df['MGMT_value']==1])\n",
    "print(f'Number of Total positive samples:{len_pos}\\nNumber of Total Negative samples:{len_neg}')"
   ]
  },
  {
   "cell_type": "markdown",
   "id": "bfdb113f-cff3-48e2-80c5-22edefef8daf",
   "metadata": {
    "id": "bfdb113f-cff3-48e2-80c5-22edefef8daf"
   },
   "source": [
    "### Retrieve image paths"
   ]
  },
  {
   "cell_type": "code",
   "execution_count": null,
   "id": "99898295",
   "metadata": {
    "id": "99898295"
   },
   "outputs": [],
   "source": [
    "def path_maker_list(patient_list:list,path:str):\n",
    "    path_list=[]\n",
    "    for item in patient_list:\n",
    "        path_patient=os.path.join(path,item)\n",
    "        path_list.append(path_patient)\n",
    "    return path_list"
   ]
  },
  {
   "cell_type": "code",
   "execution_count": null,
   "id": "47be0a64",
   "metadata": {
    "id": "47be0a64"
   },
   "outputs": [],
   "source": [
    "path_list = path_maker_list(dir_list,'./data')\n",
    "print(len(path_list))\n",
    "print(path_list)"
   ]
  },
  {
   "cell_type": "code",
   "execution_count": null,
   "id": "aHTFep0hbhM5",
   "metadata": {
    "id": "aHTFep0hbhM5"
   },
   "outputs": [],
   "source": [
    "path_list[0]"
   ]
  },
  {
   "cell_type": "markdown",
   "id": "fea28059-9937-4583-ab1c-eb6ae48d7704",
   "metadata": {
    "id": "fea28059-9937-4583-ab1c-eb6ae48d7704"
   },
   "source": [
    "##### Create List of Dictionaries that for each patient contain: Paths of different MRI sequences and Label"
   ]
  },
  {
   "cell_type": "code",
   "execution_count": null,
   "id": "84c06fd3",
   "metadata": {
    "id": "84c06fd3"
   },
   "outputs": [],
   "source": [
    "train_list=[]\n",
    "val_list=[]\n",
    "for i,idx in enumerate(path_list):\n",
    "    data_dict={}\n",
    "    id_num=int(idx.split('/')[-1])\n",
    "    df_selected=df.loc[lambda df: df['BraTS21ID'] == id_num]\n",
    "    idx_str=idx.split('/')[-1]\n",
    "    try:\n",
    "      label=list(df_selected['MGMT_value'])[0]\n",
    "      data_dict['img_t1']=f'{idx}/{idx_str}_T1w.nii.gz'\n",
    "      data_dict['img_t2']=f'{idx}/{idx_str}_T2w.nii.gz'\n",
    "      data_dict['img_t1c']=f'{idx}/CT1.nii.gz'\n",
    "      data_dict['img_flair']=f'{idx}/{idx_str}_FLAIR.nii.gz'\n",
    "      data_dict['seg']=f'{idx}/segmentation.nii.gz'\n",
    "      data_dict['label']=label\n",
    "    except:\n",
    "      pass\n",
    "    if id_num in list(df_train['BraTS21ID']):\n",
    "        train_list.append(data_dict)\n",
    "    elif id_num in list(df_val['BraTS21ID']):\n",
    "        val_list.append(data_dict)\n",
    "print(f'Number of train samples:{len(train_list)}')\n",
    "print(f'Number of validation samples:{len(val_list)}')\n",
    "print(f'Each dictionary would be like:\\n{train_list[0]}')"
   ]
  },
  {
   "cell_type": "markdown",
   "id": "VYkvZZzkv0Vf",
   "metadata": {
    "id": "VYkvZZzkv0Vf"
   },
   "source": [
    "## TODO: select the image modalites you want to train with. Here we have started with the T1 post-contrast and T2 images."
   ]
  },
  {
   "cell_type": "code",
   "execution_count": null,
   "id": "1Yl0Ug6-vrEH",
   "metadata": {
    "id": "1Yl0Ug6-vrEH"
   },
   "outputs": [],
   "source": [
    "mri_to_use=[\"img_t1c\",'img_t2'] # TODO: You can experiment with changing the image modalities included here. You could also try using the tumor segmentation as an input."
   ]
  },
  {
   "cell_type": "markdown",
   "id": "af59ae9a-939e-4df3-a26f-a62740b5eafe",
   "metadata": {
    "id": "af59ae9a-939e-4df3-a26f-a62740b5eafe"
   },
   "source": [
    "## TODO: Transformations - you can read more on different transformations here:\n",
    "\n",
    "https://pytorch.org/vision/stable/transforms.html\n",
    "\n",
    "You can experiment with changing the parameters of the transformations included below or try adding additional transformations."
   ]
  },
  {
   "cell_type": "code",
   "execution_count": null,
   "id": "572ce3c3",
   "metadata": {
    "id": "572ce3c3"
   },
   "outputs": [],
   "source": [
    "spatial_size = (128,128,64)\n",
    "train_transforms=mn.transforms.Compose([\n",
    "    mn.transforms.LoadImageD(keys=mri_to_use),\n",
    "    mn.transforms.AddChannelD(keys=mri_to_use),\n",
    "    mn.transforms.SpacingD(keys=mri_to_use,pixdim=(1,1,1), meta_key_postfix='meta_dict'),\n",
    "    mn.transforms.Resized(keys=mri_to_use, spatial_size=spatial_size),\n",
    "\n",
    "    ###QUESTION TIME!###  Complete the next function\n",
    "    mn.transforms.NormalizeIntensityD(keys=mri_to_use,channel_wise=True),\n",
    "    #channel_wise (bool) – if True, calculate on each channel separately, otherwise, calculate on the entire image directly. default to False.\n",
    "    #''' https://docs.monai.io/en/stable/transforms.html#normalizeintensityd '''\n",
    "\n",
    "    ###QUESTION TIME AGAIN!###  \n",
    "    mn.transforms.ConcatItemsd(keys=mri_to_use, name=\"img\"),\n",
    "    #'''What would be the shape of ''img'' ? '''\n",
    "\n",
    "    mn.transforms.RandAffineD(\n",
    "        keys=\"img\",\n",
    "        translate_range=(15,15,10),\n",
    "        scale_range=(0.05,0.05,0.05),\n",
    "        rotate_range=(math.pi/12,math.pi/12,math.pi/15),\n",
    "        padding_mode='zeros',\n",
    "        prob=0.5),\n",
    "    mn.transforms.ToTensord(keys=[\"img\",\"label\"]),\n",
    "    \n",
    "])\n",
    "\n",
    "val_transforms=mn.transforms.Compose([\n",
    "    mn.transforms.LoadImageD(keys=mri_to_use),\n",
    "    mn.transforms.AddChannelD(keys=mri_to_use),\n",
    "    mn.transforms.SpacingD(keys=mri_to_use,pixdim=(1,1,1), meta_key_postfix='meta_dict'),\n",
    "    mn.transforms.Resized(keys=mri_to_use, spatial_size=spatial_size),\n",
    "\n",
    "    ###QUESTION TIME! Last time :) ###  \n",
    "    mn.transforms.NormalizeIntensityD(keys=mri_to_use,channel_wise=True),\n",
    "    #channel_wise (bool) – if True, calculate on each channel separately, otherwise, calculate on the entire image directly. default to False.\n",
    "    #''' https://docs.monai.io/en/stable/transforms.html#normalizeintensityd '''\n",
    "  \n",
    "    mn.transforms.ConcatItemsd(keys=mri_to_use, name=\"img\"),\n",
    "    mn.transforms.ToTensord(keys=[\"img\",\"label\"]),\n",
    "    \n",
    "])"
   ]
  },
  {
   "cell_type": "markdown",
   "id": "Fqck-dHwwuwd",
   "metadata": {
    "id": "Fqck-dHwwuwd"
   },
   "source": [
    "## TODO [Graded]: Why might we only include RandAffineD transformations for the training and not the validation set?\n",
    "\n",
    "Answer in the cell below."
   ]
  },
  {
   "cell_type": "markdown",
   "id": "mEBh5LSrxCBN",
   "metadata": {
    "id": "mEBh5LSrxCBN"
   },
   "source": []
  },
  {
   "cell_type": "markdown",
   "id": "040b095e-e71c-4fa6-8f1c-1eb26410bc91",
   "metadata": {
    "id": "040b095e-e71c-4fa6-8f1c-1eb26410bc91"
   },
   "source": [
    "### Create Dataloader/Dataset/Sampler"
   ]
  },
  {
   "cell_type": "code",
   "execution_count": null,
   "id": "ff21f92d",
   "metadata": {
    "id": "ff21f92d"
   },
   "outputs": [],
   "source": [
    "'''Creating Dataset'''\n",
    "train_ds = mn.data.Dataset(data=train_list, transform=train_transforms)\n",
    "val_ds = mn.data.Dataset(data=val_list, transform=val_transforms)"
   ]
  },
  {
   "cell_type": "code",
   "execution_count": null,
   "id": "1208268f",
   "metadata": {
    "id": "1208268f"
   },
   "outputs": [],
   "source": [
    "for data in train_ds[:2]:\n",
    "    print(data['img'].shape)"
   ]
  },
  {
   "cell_type": "code",
   "execution_count": null,
   "id": "Bc6KHigv3psV",
   "metadata": {
    "id": "Bc6KHigv3psV"
   },
   "outputs": [],
   "source": [
    "sample_img=train_ds[0]['img']\n",
    "fig,axes=plt.subplots(1,2,figsize=(10,10));\n",
    "axes[0].imshow(sample_img[0,:,:,32],cmap='gray');\n",
    "axes[0].title.set_text('T1C')\n",
    "axes[1].imshow(sample_img[1,:,:,32],cmap='gray');\n",
    "axes[1].title.set_text('T2WI')"
   ]
  },
  {
   "cell_type": "code",
   "execution_count": null,
   "id": "Ub2KXTh-R6vI",
   "metadata": {
    "id": "Ub2KXTh-R6vI",
    "scrolled": true
   },
   "outputs": [],
   "source": [
    "'''Sampler - this will take a few minutes'''\n",
    "class_weights=[1,1]\n",
    "sample_weights=[0]*len(train_ds)\n",
    "for idx,data in enumerate(train_ds):\n",
    "    class_weight=class_weights[data['label']]\n",
    "    sample_weights[idx]=class_weight\n",
    "sampler = WeightedRandomSampler(sample_weights,num_samples=len(sample_weights),replacement=True)"
   ]
  },
  {
   "cell_type": "code",
   "execution_count": null,
   "id": "c36a2ae6",
   "metadata": {
    "id": "c36a2ae6"
   },
   "outputs": [],
   "source": [
    "\"\"\"How make batch in dataloader\"\"\"\n",
    "def collater(data):\n",
    "    batch_imgs = [s['img'] for s in data]\n",
    "    batch_labels = [s['label'] for s in data]\n",
    "    imgs = torch.stack(batch_imgs, axis=0)\n",
    "    targets = torch.stack(batch_labels, axis=0)\n",
    "    targets=targets.squeeze(-1)\n",
    "    return {'imgs': imgs, 'targets': targets}"
   ]
  },
  {
   "cell_type": "markdown",
   "id": "762334fb",
   "metadata": {
    "id": "762334fb"
   },
   "source": [
    "### TODO: You can experiment with other hyperparameters in the cell below. We've included some suggestions to get you started. \n",
    "\n",
    "Again the data is large so during the lab session it is best to keep the epochs low as training will be slow. This will ensure you have time to get through the entire notebook. You can comeback and train for longer later."
   ]
  },
  {
   "cell_type": "code",
   "execution_count": null,
   "id": "794a417d",
   "metadata": {
    "id": "794a417d"
   },
   "outputs": [],
   "source": [
    "# TODO: Hyperparameter selection\n",
    "bs=2\n",
    "lr=1e-5\n",
    "epochs=3"
   ]
  },
  {
   "cell_type": "code",
   "execution_count": null,
   "id": "68522725",
   "metadata": {
    "id": "68522725"
   },
   "outputs": [],
   "source": [
    "\"\"\"Creating train and validation dataloader\"\"\"\n",
    "train_loader = DataLoader(train_ds, batch_size=bs, num_workers=2, pin_memory=torch.cuda.is_available(),sampler=sampler,collate_fn=collater,prefetch_factor=1)\n",
    "val_loader = DataLoader(val_ds, batch_size=bs, num_workers=2, pin_memory=torch.cuda.is_available(),collate_fn=collater,prefetch_factor=1)"
   ]
  },
  {
   "cell_type": "markdown",
   "id": "c4b10926-9dd7-469f-a777-a37febf9077a",
   "metadata": {
    "id": "c4b10926-9dd7-469f-a777-a37febf9077a"
   },
   "source": [
    "### Create model"
   ]
  },
  {
   "cell_type": "code",
   "execution_count": null,
   "id": "dee9b8f1",
   "metadata": {
    "id": "dee9b8f1"
   },
   "outputs": [],
   "source": [
    "model = mn.networks.nets.DenseNet121(spatial_dims=3, in_channels=2, out_channels=2).to(device)\n",
    "loss_function = torch.nn.CrossEntropyLoss()\n",
    "optimizer = torch.optim.Adam(model.parameters(), lr)"
   ]
  },
  {
   "cell_type": "markdown",
   "id": "943bc88b-1e8f-4bb8-9b4e-3454aab4f8e2",
   "metadata": {
    "id": "943bc88b-1e8f-4bb8-9b4e-3454aab4f8e2"
   },
   "source": [
    "### Training and evaluation on Validation set\n",
    "\n"
   ]
  },
  {
   "cell_type": "code",
   "execution_count": null,
   "id": "e98ac062",
   "metadata": {
    "id": "e98ac062"
   },
   "outputs": [],
   "source": [
    "val_interval = 1\n",
    "best_metric = -1\n",
    "best_metric_epoch = -1\n",
    "\n",
    "hyperparam = {\n",
    "    'LearningRate': lr,\n",
    "    'BatchSize': bs,\n",
    "    'Epochs': epochs,\n",
    "    'ImageSize': spatial_size[0]\n",
    "}\n",
    "\n",
    "for i,epoch in enumerate(tqdm(range(epochs))):\n",
    "    print(\"-\" * 10)\n",
    "    print(f\"epoch {epoch + 1}/{epochs}\")\n",
    "    model.train()\n",
    "    epoch_loss = 0\n",
    "    val_epoch_loss=0\n",
    "    step = 0\n",
    "    val_step=0\n",
    "    for batch_data in tqdm(train_loader):\n",
    "        step += 1\n",
    "        inputs, labels = batch_data[\"imgs\"].to(device), batch_data[\"targets\"].to(device)\n",
    "        optimizer.zero_grad()\n",
    "        outputs = model(inputs)\n",
    "        loss = loss_function(outputs, labels)\n",
    "        loss.backward()\n",
    "        optimizer.step()\n",
    "        epoch_loss += loss.item()\n",
    "        epoch_len = (len(train_ds) // train_loader.batch_size)+1\n",
    "        print(f\"{step}/{epoch_len}, train_loss: {loss.item():.4f}\")\n",
    "    epoch_loss /= step\n",
    "    print(f\"epoch {epoch + 1} average loss: {epoch_loss:.4f}\")\n",
    "\n",
    "    \n",
    "    model.eval()\n",
    "    with torch.no_grad():\n",
    "        y_pred = torch.tensor([], dtype=torch.float32, device=device)\n",
    "        y = torch.tensor([], dtype=torch.long, device=device)\n",
    "        for val_data in val_loader:\n",
    "            val_step +=1\n",
    "            val_images, val_labels = val_data[\"imgs\"].to(device), val_data[\"targets\"].to(device)\n",
    "            val_output=model(val_images)\n",
    "            val_loss= loss_function(val_output,val_labels)\n",
    "            val_epoch_loss += val_loss.item()\n",
    "            val_epoch_len = len(val_ds) // val_loader.batch_size\n",
    "            total_val_step=(len(val_ds)//bs)+1\n",
    "            print(f\"{val_step}/{total_val_step}, val_loss: {val_loss.item():.4f}\")\n",
    "            y_pred = torch.cat([y_pred, model(val_images)], dim=0)\n",
    "            y = torch.cat([y, val_labels], dim=0)\n",
    "            \n",
    "\n",
    "        val_epoch_loss /= val_step\n",
    "        print(f\"epoch {epoch + 1} average val_loss: {val_epoch_loss:.4f}\")\n",
    "\n",
    "        acc_value_val = torch.eq(y_pred.argmax(dim=1), y)\n",
    "        acc_metric_val = acc_value_val.sum().item() / len(acc_value_val)\n",
    "        if acc_metric_val > best_metric:\n",
    "            best_metric = acc_metric_val\n",
    "            best_metric_epoch = epoch + 1\n",
    "            ##torch.save(model.state_dict(), \"best_metric_model_classification3d_multimodal_early.pth\") Specify Directory\n",
    "            print(\"saved new best metric model\")\n",
    "        print(f\"current epoch: {epoch + 1} current accuracy: {acc_metric_val:.4f} best accuracy: { best_metric:.4f}\")\n",
    "        print(f\"loss: {loss}\")\n",
    "        print(f\"\\tAccuracy_val: {acc_metric_val}\")\n",
    "        y_pred = torch.tensor([], dtype=torch.float32, device=device)\n",
    "        y = torch.tensor([], dtype=torch.long, device=device)\n",
    "        \n",
    "        step = 0\n",
    "        train_step=0\n",
    "        for train_data in train_loader:\n",
    "            train_step +=1\n",
    "            train_images, train_labels = train_data[\"imgs\"].to(device), train_data[\"targets\"].to(device)\n",
    "            train_output=model(train_images)\n",
    "            train_epoch_len = len(train_ds) // train_loader.batch_size\n",
    "            total_train_step=(len(train_ds)//bs)+1\n",
    "            y_pred = torch.cat([y_pred, model(train_images)], dim=0)\n",
    "            y = torch.cat([y, train_labels], dim=0)\n",
    "            \n",
    "\n",
    "        acc_value_train = torch.eq(y_pred.argmax(dim=1), y)\n",
    "        acc_metric_train = acc_value_train.sum().item() / len(acc_value_train)\n",
    "        print('Accuracy_train :', acc_metric_train)\n",
    "\n",
    "print(f\"train completed, best_metric: {best_metric:.4f} at epoch: {best_metric_epoch}\")\n",
    "\n",
    "########################\n",
    "### SUBMIT THE MODEL ###\n",
    "########################\n",
    "\n",
    "hyperparam['metric'] = best_metric\n",
    "sub_model(team, hyperparam)"
   ]
  },
  {
   "cell_type": "markdown",
   "id": "26UJK0V-yPNT",
   "metadata": {
    "id": "26UJK0V-yPNT"
   },
   "source": [
    "## TODO [Graded]: What do you make of the training accuracy compared to the validation accuracy? High bias or high variance? Explain your answer.\n",
    "\n",
    "Answer in the cell below."
   ]
  },
  {
   "cell_type": "markdown",
   "id": "hjEr5UZn3RYC",
   "metadata": {
    "id": "hjEr5UZn3RYC"
   },
   "source": []
  },
  {
   "cell_type": "markdown",
   "id": "E3i0XqFQ2GX6",
   "metadata": {
    "id": "E3i0XqFQ2GX6"
   },
   "source": [
    "## TODO [Graded]: Briefly explain the purpose of each line of code below.\n",
    "\n",
    "This is taken from the training loop above. [Hint] Look at the example here :\n",
    "https://pytorch.org/tutorials/beginner/blitz/cifar10_tutorial.html#train-the-network\n",
    "\n",
    "at that webpage you can click on each line of code to take you to the corresponding documentation.\n",
    "\n",
    "    for batch_data in tqdm(train_loader):\n",
    "        inputs, labels = batch_data[\"imgs\"].to(device), batch_data[\"targets\"].to(device)\n",
    "        optimizer.zero_grad()\n",
    "        outputs = model(inputs)\n",
    "        loss = loss_function(outputs, labels)\n",
    "        loss.backward()\n",
    "        optimizer.step()\n",
    "\n",
    "Answer in the cell below."
   ]
  },
  {
   "cell_type": "markdown",
   "id": "MvQVUO8LyeqE",
   "metadata": {
    "id": "MvQVUO8LyeqE"
   },
   "source": []
  },
  {
   "cell_type": "markdown",
   "id": "14e28354",
   "metadata": {},
   "source": [
    "## See the leaderboard here:\n",
    "\n",
    "https://aihc5010.pythonanywhere.com/leaderboard-multimodal/"
   ]
  },
  {
   "cell_type": "markdown",
   "id": "Q9O0BYiYF2lB",
   "metadata": {
    "id": "Q9O0BYiYF2lB"
   },
   "source": [
    "# 2. Intermediate Fusion: Adding Age!\n",
    "\n",
    "## This section has 0 graded TODO items.\n",
    "\n",
    "### In this section we will add the age of the patient after extracting features from MRI, and then we will train another neural net (while simultaneously training the first neural net).\n",
    "![image.png](data:image/png;base64,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)"
   ]
  },
  {
   "cell_type": "markdown",
   "id": "vabNjDkmJoov",
   "metadata": {
    "id": "vabNjDkmJoov"
   },
   "source": [
    "Create List of dictionaries....\n",
    "\n",
    "We want to experiment with adding age, but that isn't available for this data set. We are going to mock up some fake data for illustration purposes only, by assigning random ages. We therefore don't expect this to positively impact the classification performance."
   ]
  },
  {
   "cell_type": "code",
   "execution_count": null,
   "id": "5G1ba1PU9LA8",
   "metadata": {
    "id": "5G1ba1PU9LA8"
   },
   "outputs": [],
   "source": [
    "train_list=[]\n",
    "val_list=[]\n",
    "for i,idx in enumerate(path_list):\n",
    "    data_dict={}\n",
    "    id_num=int(idx.split('/')[-1])\n",
    "    df_selected=df.loc[lambda df: df['BraTS21ID'] == id_num]\n",
    "    idx_str=idx.split('/')[-1]\n",
    "    try:\n",
    "      label=list(df_selected['MGMT_value'])[0]\n",
    "      data_dict['img_t1']=f'{idx}/{idx_str}_T1w.nii.gz'\n",
    "      data_dict['img_t2']=f'{idx}/{idx_str}_T2w.nii.gz'\n",
    "      data_dict['img_t1c']=f'{idx}/CT1.nii.gz'\n",
    "      data_dict['img_flair']=f'{idx}/{idx_str}_FLAIR.nii.gz'\n",
    "      data_dict['seg']=f'{idx}/segmentation.nii.gz'\n",
    "      data_dict['age']=torch.randint(low=40, high=90,size=(1,))# Since BraTS2021 dataset doesn't contain age of the patients, here we are generating random age for the patients!\n",
    "      data_dict['label']=label\n",
    "    except:\n",
    "      pass\n",
    "    if id_num in list(df_train['BraTS21ID']):\n",
    "        train_list.append(data_dict)\n",
    "    elif id_num in list(df_val['BraTS21ID']):\n",
    "        val_list.append(data_dict)\n",
    "print(f'Number of train samples:{len(train_list)}')\n",
    "print(f'Number of validation samples:{len(val_list)}')\n",
    "print(f'Each dictionary would be like:\\n{train_list[0]}')"
   ]
  },
  {
   "cell_type": "code",
   "execution_count": null,
   "id": "v_5VM2n7BwPv",
   "metadata": {
    "id": "v_5VM2n7BwPv"
   },
   "outputs": [],
   "source": [
    "'''Creating Dataset'''\n",
    "train_ds = mn.data.Dataset(data=train_list, transform=train_transforms)\n",
    "val_ds = mn.data.Dataset(data=val_list, transform=val_transforms)"
   ]
  },
  {
   "cell_type": "code",
   "execution_count": null,
   "id": "1xwHCoApR1Se",
   "metadata": {
    "id": "1xwHCoApR1Se"
   },
   "outputs": [],
   "source": [
    "'''Sampler'''\n",
    "class_weights=[1,1]\n",
    "sample_weights=[0]*len(train_ds)\n",
    "for idx,data in enumerate(train_ds):\n",
    "    class_weight=class_weights[data['label']]\n",
    "    sample_weights[idx]=class_weight\n",
    "sampler= WeightedRandomSampler(sample_weights,num_samples=len(sample_weights),replacement=True)"
   ]
  },
  {
   "cell_type": "code",
   "execution_count": null,
   "id": "paf9Faa-B7UP",
   "metadata": {
    "id": "paf9Faa-B7UP"
   },
   "outputs": [],
   "source": [
    "\"\"\"How make batch in dataloader\"\"\"\n",
    "def collater(data):\n",
    "    batch_imgs = [s['img'] for s in data]\n",
    "    batch_labels = [s['label'] for s in data]\n",
    "    batch_ages=[s['age'] for s in data]\n",
    "    imgs = torch.stack(batch_imgs, axis=0)\n",
    "    targets = torch.stack(batch_labels, axis=0)\n",
    "    ages=torch.stack(batch_ages, axis=0)\n",
    "    targets=targets.squeeze(-1)\n",
    "    ages=ages.squeeze(-1)\n",
    "    return {'imgs': imgs, 'targets': targets, 'ages':ages}"
   ]
  },
  {
   "cell_type": "code",
   "execution_count": null,
   "id": "SdzVVzFMCATz",
   "metadata": {
    "id": "SdzVVzFMCATz"
   },
   "outputs": [],
   "source": [
    "\"\"\"Creating train and validation dataloader\"\"\"\n",
    "train_loader = DataLoader(train_ds, batch_size=bs, num_workers=2, pin_memory=torch.cuda.is_available(),sampler=sampler,collate_fn=collater,prefetch_factor=1)\n",
    "val_loader = DataLoader(val_ds, batch_size=bs, num_workers=2, pin_memory=torch.cuda.is_available(),collate_fn=collater,prefetch_factor=1)"
   ]
  },
  {
   "cell_type": "markdown",
   "id": "eLps2S6KNivN",
   "metadata": {
    "id": "eLps2S6KNivN"
   },
   "source": [
    "## TODO: You can experiment with other hyperparameters in the cell below. We've included some suggestions to get you started. \n",
    "\n",
    "Again the data is large so during the lab session it is best to keep the epochs low as training will be slow. This will ensure you have time to get through the entire notebook. You can comeback and train for longer later.\n"
   ]
  },
  {
   "cell_type": "code",
   "execution_count": null,
   "id": "8DTrK83odaL0",
   "metadata": {
    "id": "8DTrK83odaL0"
   },
   "outputs": [],
   "source": [
    "# TODO: Hyperparameter - selection\n",
    "bs=2\n",
    "lr=1e-3\n",
    "epochs=3"
   ]
  },
  {
   "cell_type": "markdown",
   "id": "WwUtiQ0XzZSi",
   "metadata": {
    "id": "WwUtiQ0XzZSi"
   },
   "source": [
    "## TODO: Experiment with the number of extracted features, the number of layers, neurons or activation function."
   ]
  },
  {
   "cell_type": "code",
   "execution_count": null,
   "id": "9qXhl_xMEKkw",
   "metadata": {
    "id": "9qXhl_xMEKkw"
   },
   "outputs": [],
   "source": [
    "extracted_features=10 #Feel free to change the number of extracted feature\n",
    "model = mn.networks.nets.DenseNet121(spatial_dims=3, in_channels=2, out_channels=extracted_features).to(device)\n",
    "intrmd_model=torch.nn.Sequential(\n",
    "     torch.nn.Linear(extracted_features+1, 5),\n",
    "     torch.nn.ReLU(),\n",
    "     torch.nn.Linear(5,2))#Feel free to change the number of layes, neurons , and the activation function\n",
    "intrmd_model.to(device)\n",
    "loss_function = torch.nn.CrossEntropyLoss()\n",
    "params = list(model.parameters()) + list(intrmd_model.parameters())# Creating a list containing the parameters of the first and second neural networks\n",
    "optimizer = torch.optim.Adam(params, lr)# Simultaneously optimizing both networks."
   ]
  },
  {
   "cell_type": "markdown",
   "id": "KoSd1Mrkz392",
   "metadata": {
    "id": "KoSd1Mrkz392"
   },
   "source": [
    "##Let's check the shape of the extracted brain MRI features and concatenated vector."
   ]
  },
  {
   "cell_type": "code",
   "execution_count": null,
   "id": "F6M4-xWmHEcx",
   "metadata": {
    "id": "F6M4-xWmHEcx"
   },
   "outputs": [],
   "source": [
    "for batch_data in tqdm(train_loader):\n",
    "        inputs, labels,ages= batch_data[\"imgs\"].to(device), batch_data[\"targets\"].to(device), batch_data['ages'].to(device)\n",
    "        ages=ages.reshape(2,1)\n",
    "        optimizer.zero_grad()\n",
    "        outputs = model(inputs)\n",
    "        print(f'Shape of the extracted features in a batch:{outputs.shape}')\n",
    "        print('label:',labels)\n",
    "        outputs = torch.cat((outputs,ages),dim=1)\n",
    "        print(f'Shape of the concatenated vector in a batch:{outputs.shape}')\n",
    "        outputs = intrmd_model(outputs)\n",
    "        print(f'Shape of the final output in a batch:{outputs.shape}')\n",
    "        break"
   ]
  },
  {
   "cell_type": "markdown",
   "id": "lsTzM5MOxmPR",
   "metadata": {
    "id": "lsTzM5MOxmPR"
   },
   "source": [
    "## Intermediate fusion training loop"
   ]
  },
  {
   "cell_type": "code",
   "execution_count": null,
   "id": "HcsQ568xFa-0",
   "metadata": {
    "id": "HcsQ568xFa-0"
   },
   "outputs": [],
   "source": [
    "val_interval = 1\n",
    "best_metric = -1\n",
    "best_metric_epoch = -1\n",
    "\n",
    "for i,epoch in enumerate(tqdm(range(epochs))):\n",
    "    print(\"-\" * 10)\n",
    "    print(f\"epoch {epoch + 1}/{epochs}\")\n",
    "    model.train()\n",
    "    epoch_loss = 0\n",
    "    val_epoch_loss=0\n",
    "    step = 0\n",
    "    val_step=0\n",
    "    for batch_data in tqdm(train_loader):\n",
    "        step += 1\n",
    "        inputs, labels,ages= batch_data[\"imgs\"].to(device), batch_data[\"targets\"].to(device), batch_data['ages'].to(device)\n",
    "        ages=ages.reshape(bs,1)# Makes the dimensions compatible for concatenation.\n",
    "        optimizer.zero_grad()\n",
    "        outputs = model(inputs)\n",
    "        outputs = torch.cat((outputs,ages),dim=1)# Concatenation of the extracted features with age.\n",
    "        outputs = intrmd_model(outputs)# Feeding the concatenated vector to the second neural network.\n",
    "        loss = loss_function(outputs, labels)\n",
    "        loss.backward()\n",
    "        optimizer.step()\n",
    "        epoch_loss += loss.item()\n",
    "        epoch_len = (len(train_ds) // train_loader.batch_size)+1\n",
    "        print(f\"{step}/{epoch_len}, train_loss: {loss.item():.4f}\")\n",
    "    epoch_loss /= step\n",
    "    print(f\"epoch {epoch + 1} average loss: {epoch_loss:.4f}\")\n",
    "\n",
    "    \n",
    "    model.eval()\n",
    "    with torch.no_grad():\n",
    "        y_pred = torch.tensor([], dtype=torch.float32, device=device)\n",
    "        y = torch.tensor([], dtype=torch.long, device=device)\n",
    "        for val_data in val_loader:\n",
    "            val_step +=1\n",
    "            val_images, val_labels,val_ages = val_data[\"imgs\"].to(device), val_data[\"targets\"].to(device),val_data['ages'].to(device)\n",
    "            val_ages=val_ages.reshape(bs,1)# Makes the dimensions compatible for concatenation.\n",
    "            val_output=model(val_images)\n",
    "            val_output=torch.cat((val_output,val_ages),dim=1)# Concatenation of the extracted features with age.\n",
    "            val_output=intrmd_model(val_output)# Feeding the concatenated vector to the second neural network.\n",
    "            val_loss= loss_function(val_output,val_labels)\n",
    "            val_epoch_loss += val_loss.item()\n",
    "            val_epoch_len = len(val_ds) // val_loader.batch_size\n",
    "            total_val_step=(len(val_ds)//bs)+1\n",
    "            print(f\"{val_step}/{total_val_step}, val_loss: {val_loss.item():.4f}\")\n",
    "            y_pred = torch.cat([y_pred, model(val_images)], dim=0)\n",
    "            y = torch.cat([y, val_labels], dim=0)\n",
    "            \n",
    "\n",
    "        val_epoch_loss /= val_step\n",
    "        print(f\"epoch {epoch + 1} average val_loss: {val_epoch_loss:.4f}\")\n",
    "\n",
    "        acc_value_val = torch.eq(y_pred.argmax(dim=1), y)\n",
    "        acc_metric_val = acc_value_val.sum().item() / len(acc_value_val)\n",
    "        if acc_metric_val > best_metric:\n",
    "            best_metric = acc_metric_val\n",
    "            best_metric_epoch = epoch + 1\n",
    "            ##torch.save(model.state_dict(), \"best_metric_model_classification3d_multimodal_.pth\")# Specify Directory\n",
    "            print(\"saved new best metric model\")\n",
    "        print(f\"current epoch: {epoch + 1} current accuracy: {acc_metric_val:.4f} best accuracy: { best_metric:.4f}\")\n",
    "        print(f\"loss: {loss}\")\n",
    "        print(f\"\\tAccuracy_val: {acc_metric_val}\")\n",
    "        y_pred = torch.tensor([], dtype=torch.float32, device=device)\n",
    "        y = torch.tensor([], dtype=torch.long, device=device)\n",
    "        \n",
    "        step = 0\n",
    "        train_step=0\n",
    "        for train_data in train_loader:\n",
    "            train_step +=1\n",
    "            train_images, train_labels, train_ages = train_data[\"imgs\"].to(device), train_data[\"targets\"].to(device), train_data['ages'].to(device)\n",
    "            train_ages=train_ages.reshape(bs,1)# Makes the dimensions compatible for concatenation.\n",
    "            train_output=model(train_images)\n",
    "            train_output=torch.cat((train_output,train_ages),dim=1)# Concatenation of the extracted features with age.\n",
    "            train_output=intrmd_model(train_output)# Feeding the concatenated vector to the second neural network.\n",
    "            train_epoch_len = len(train_ds) // train_loader.batch_size\n",
    "            total_train_step=(len(train_ds)//bs)+1\n",
    "            y_pred = torch.cat([y_pred, model(train_images)], dim=0)\n",
    "            y = torch.cat([y, train_labels], dim=0)\n",
    "            \n",
    "\n",
    "        acc_value_train = torch.eq(y_pred.argmax(dim=1), y)\n",
    "        acc_metric_train = acc_value_train.sum().item() / len(acc_value_train)\n",
    "        print('Accuracy_train :', acc_metric_train)\n",
    "\n",
    "print(f\"train completed, best_metric: {best_metric:.4f} at epoch: {best_metric_epoch}\")"
   ]
  },
  {
   "cell_type": "markdown",
   "id": "0WRHFoNT4BYG",
   "metadata": {
    "id": "0WRHFoNT4BYG"
   },
   "source": [
    "# 3. Late Fusion: Model ensemble!\n",
    "\n",
    "## This section has 1 graded TODO item.\n",
    "### In this section we want to assess the performance of an ensemble of three imaginary models.\n",
    "In this imaginary scenario we trained the first model using T1W, the second model using T2W, and the third model using T1C.\n",
    "\n",
    "In the cell below we have mocked up some ground truth labels and classification prediction vectors."
   ]
  },
  {
   "cell_type": "code",
   "execution_count": null,
   "id": "UNdf6V3F3-8p",
   "metadata": {
    "id": "UNdf6V3F3-8p"
   },
   "outputs": [],
   "source": [
    "Labels=torch.tensor([1,0,1,0,1,0])# Ground truth\n",
    "Pred_1=torch.tensor([1,1,1,1,1,0])# A model trained with T1WI \n",
    "print(f\"T1WI's model accuracy:{torch.eq(Pred_1,Labels).sum()/len(Labels)}\")\n",
    "Pred_2=torch.tensor([0,0,0,0,1,0])# A model trained with T2WI \n",
    "print(f\"T2WI's model accuracy:{torch.eq(Pred_2,Labels).sum()/len(Labels)}\")\n",
    "Pred_3=torch.tensor([1,0,1,0,0,1])# A model trained with T1C \n",
    "print(f\"T1C's model accuracy:{torch.eq(Pred_3,Labels).sum()/len(Labels)}\")"
   ]
  },
  {
   "cell_type": "markdown",
   "id": "aFd6RLsj0hm7",
   "metadata": {
    "id": "aFd6RLsj0hm7"
   },
   "source": [
    "All individual models perform the same.  But what happens when they are combined with the simple majority vote."
   ]
  },
  {
   "cell_type": "code",
   "execution_count": null,
   "id": "3nMHz9Fz5p-t",
   "metadata": {
    "id": "3nMHz9Fz5p-t"
   },
   "outputs": [],
   "source": [
    "'''Late Fusion'''\n",
    "Pred_aggregated=Pred_1+Pred_2+Pred_3\n",
    "Pred_aggregated=torch.where(Pred_aggregated>1.5,1,0)# Performing majority voting\n",
    "print(f'Model ensemble accuracy:{torch.eq(Pred_aggregated,Labels).sum()/len(Labels)}')"
   ]
  },
  {
   "cell_type": "markdown",
   "id": "xUC9EKUq04p6",
   "metadata": {
    "id": "xUC9EKUq04p6"
   },
   "source": [
    "## TODO [Graded]: Could the performance of the simple majority vote ever be worse than anyone individual classifier?\n",
    "\n",
    "Answer in the cell below."
   ]
  },
  {
   "cell_type": "markdown",
   "id": "woj-YXooT0xm",
   "metadata": {
    "id": "woj-YXooT0xm"
   },
   "source": [
    "## Some additional questions to think about (These are not graded):\n",
    "### 1- Pros and Cons of early, intermediate and late fusion?\n",
    "### 2- In what circumstances should early, intermediate, or late fusion be used?\n",
    "### 3- Why don't we always do model ensembles and late fusions?"
   ]
  },
  {
   "cell_type": "markdown",
   "id": "oELTViNW2EIg",
   "metadata": {
    "id": "oELTViNW2EIg"
   },
   "source": [
    "### References:\n",
    "1. Bellot, D., Boyer, A. and Charpillet, F. (2002) ‘A new definition of qualified gain in a data fusion process: application to telemedicine’, in Proceedings of the Fifth International Conference on Information Fusion. FUSION 2002. (IEEE Cat.No.02EX5997), pp. 865–872 vol.2.\n",
    "2. Gadzicki, K., Khamsehashari, R. and Zetzsche, C. (2020) ‘Early vs Late Fusion in Multimodal Convolutional Neural Networks’, in 2020 IEEE 23rd International Conference on Information Fusion (FUSION), pp. 1–6.\n",
    "3. Karpathy, A. et al. (2014) ‘Large-scale video classification with convolutional neural networks’, in Proceedings of the IEEE conference on Computer Vision and Pattern Recognition, pp. 1725–1732.\n",
    "4. Huang, S.-C. et al. (2020) ‘Fusion of medical imaging and electronic health records using deep learning: a systematic review and implementation guidelines’, npj Digital Medicine. doi:10.1038/s41746-020-00341-z.\n",
    "5. Haileleol Tibebu (2020), Introduction To Data Fusion, URL: https://medium.com/haileleol-tibebu/data-fusion-78e68e65b2d1\n",
    "6. Yoo, Y. et al. (2019) ‘Deep learning of brain lesion patterns and user-defined clinical and MRI features for predicting conversion to multiple sclerosis from clinically isolated syndrome’, Computer Methods in Biomechanics and Biomedical Engineering: Imaging & Visualization, 7(3), pp. 250–259.iomed. Eng. Imaging Vis. 7, 250–259, (2019).\n",
    "7. Boonn, William W., and Curtis P. Langlotz. 2009. “Radiologist Use of and Perceived Need for Patient Data Access.” Journal of Digital Imaging 22 (4): 357–62.\n",
    "8. Haskins, Grant, Uwe Kruger, and Pingkun Yan. 2020. “Deep Learning in Medical Image Registration: A Survey.” Machine Vision and Applications 31 (1): 8.\n",
    "9. Huang, Shih-Cheng, Anuj Pareek, Saeed Seyyedi, Imon Banerjee, and Matthew P. Lungren. 2020. “Fusion of Medical Imaging and Electronic Health Records Using Deep Learning: A Systematic Review and Implementation Guidelines.” NPJ Digital Medicine 3 (October): 136.\n",
    "10. Liu, Shi-Feng, Jian Lu, Hong Wang, Yan Han, De-Feng Wang, Li-Li Yang, Zi-Xiang Li, and Xiao-Kun Hu. 2019. “Computed Tomography-Magnetic Resonance Imaging Fusion-Guided Iodine-125 Seed Implantation for Single Malignant Brain Tumor: Feasibility and Safety.” Journal of Cancer Research and Therapeutics 15 (4): 818–24.\n"
   ]
  },
  {
   "cell_type": "code",
   "execution_count": null,
   "id": "9c80eada",
   "metadata": {
    "id": "9c80eada"
   },
   "outputs": [],
   "source": []
  }
 ],
 "metadata": {
  "accelerator": "GPU",
  "colab": {
   "provenance": []
  },
  "gpuClass": "standard",
  "kernelspec": {
   "display_name": "Python 3 (ipykernel)",
   "language": "python",
   "name": "python3"
  },
  "language_info": {
   "codemirror_mode": {
    "name": "ipython",
    "version": 3
   },
   "file_extension": ".py",
   "mimetype": "text/x-python",
   "name": "python",
   "nbconvert_exporter": "python",
   "pygments_lexer": "ipython3",
   "version": "3.10.9"
  }
 },
 "nbformat": 4,
 "nbformat_minor": 5
}
